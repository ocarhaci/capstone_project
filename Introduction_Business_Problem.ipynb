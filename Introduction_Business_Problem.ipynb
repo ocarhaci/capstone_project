{
 "cells": [
  {
   "cell_type": "markdown",
   "metadata": {},
   "source": [
    "# Introduction / Business Problem"
   ]
  },
  {
   "cell_type": "markdown",
   "metadata": {},
   "source": [
    "This report provides an introduction and explains the business problem that will be solved as a subpart of Coursera Capstone project.\n",
    "\n",
    "I would like to apply clustering algorithms to biggest European cities in order to see the similarities and differences between those cities. The data will be gathered from Foursquare developer platform. Foursquare provides info about many different type of shops in the city: e.g airport shops, types of restaurants, gyms etc. A clustering algorithm can provide some insight about which cities have similar social and economic lifestyle. Such an analysis would be fun and also readers can benefit from it (e.g. decide where to live next).\n",
    "\n",
    "The previously used Toronto report will be a very good reference for this report. I just need to decide which cities to use and their (latitude, longitude) coordinates. I will try to use cities from all around Europe. The cities should be relativeley big and popular ones. As a choosing criteria, I can use city populations or their touristic attraction. To provide more meaningful/clear results, number of cities should not be very high or very low. Around 30 city on a map can show a clear pattern. Number of clusters will be decided during implementation. The result which provides a better conclusion will be used. Based on the result and its representation on the map, more cities can be added if needed. The implementation itself will provide more insight about this."
   ]
  },
  {
   "cell_type": "code",
   "execution_count": null,
   "metadata": {},
   "outputs": [],
   "source": []
  }
 ],
 "metadata": {
  "kernelspec": {
   "display_name": "Python 3",
   "language": "python",
   "name": "python3"
  },
  "language_info": {
   "codemirror_mode": {
    "name": "ipython",
    "version": 3
   },
   "file_extension": ".py",
   "mimetype": "text/x-python",
   "name": "python",
   "nbconvert_exporter": "python",
   "pygments_lexer": "ipython3",
   "version": "3.8.5"
  }
 },
 "nbformat": 4,
 "nbformat_minor": 4
}
